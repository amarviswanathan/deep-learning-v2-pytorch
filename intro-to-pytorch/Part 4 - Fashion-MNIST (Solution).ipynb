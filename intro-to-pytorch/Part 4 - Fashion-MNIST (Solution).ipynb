{
 "cells": [
  {
   "cell_type": "markdown",
   "metadata": {},
   "source": [
    "# Classifying Fashion-MNIST\n",
    "\n",
    "Now it's your turn to build and train a neural network. You'll be using the [Fashion-MNIST dataset](https://github.com/zalandoresearch/fashion-mnist), a drop-in replacement for the MNIST dataset. MNIST is actually quite trivial with neural networks where you can easily achieve better than 97% accuracy. Fashion-MNIST is a set of 28x28 greyscale images of clothes. It's more complex than MNIST, so it's a better representation of the actual performance of your network, and a better representation of datasets you'll use in the real world.\n",
    "\n",
    "<img src='assets/fashion-mnist-sprite.png' width=500px>\n",
    "\n",
    "In this notebook, you'll build your own neural network. For the most part, you could just copy and paste the code from Part 3, but you wouldn't be learning. It's important for you to write the code yourself and get it to work. Feel free to consult the previous notebooks though as you work through this.\n",
    "\n",
    "First off, let's load the dataset through torchvision."
   ]
  },
  {
   "cell_type": "code",
   "execution_count": 1,
   "metadata": {},
   "outputs": [],
   "source": [
    "import torch\n",
    "from torchvision import datasets, transforms\n",
    "import helper\n",
    "\n",
    "# Define a transform to normalize the data\n",
    "transform = transforms.Compose([transforms.ToTensor(),\n",
    "                                transforms.Normalize((0.5,), (0.5,))])\n",
    "# Download and load the training data\n",
    "trainset = datasets.FashionMNIST('~/.pytorch/F_MNIST_data/', download=True, train=True, transform=transform)\n",
    "trainloader = torch.utils.data.DataLoader(trainset, batch_size=64, shuffle=True)\n",
    "\n",
    "# Download and load the test data\n",
    "testset = datasets.FashionMNIST('~/.pytorch/F_MNIST_data/', download=True, train=False, transform=transform)\n",
    "testloader = torch.utils.data.DataLoader(testset, batch_size=64, shuffle=True)"
   ]
  },
  {
   "cell_type": "markdown",
   "metadata": {},
   "source": [
    "Here we can see one of the images."
   ]
  },
  {
   "cell_type": "code",
   "execution_count": 2,
   "metadata": {},
   "outputs": [
    {
     "output_type": "display_data",
     "data": {
      "text/plain": "<Figure size 432x288 with 1 Axes>",
      "image/svg+xml": "<?xml version=\"1.0\" encoding=\"utf-8\" standalone=\"no\"?>\n<!DOCTYPE svg PUBLIC \"-//W3C//DTD SVG 1.1//EN\"\n  \"http://www.w3.org/Graphics/SVG/1.1/DTD/svg11.dtd\">\n<!-- Created with matplotlib (https://matplotlib.org/) -->\n<svg height=\"231.84pt\" version=\"1.1\" viewBox=\"0 0 231.84 231.84\" width=\"231.84pt\" xmlns=\"http://www.w3.org/2000/svg\" xmlns:xlink=\"http://www.w3.org/1999/xlink\">\n <defs>\n  <style type=\"text/css\">\n*{stroke-linecap:butt;stroke-linejoin:round;}\n  </style>\n </defs>\n <g id=\"figure_1\">\n  <g id=\"patch_1\">\n   <path d=\"M 0 231.84 \nL 231.84 231.84 \nL 231.84 0 \nL 0 0 \nz\n\" style=\"fill:none;\"/>\n  </g>\n  <g id=\"axes_1\">\n   <g id=\"patch_2\">\n    <path d=\"M 7.2 224.64 \nL 224.64 224.64 \nL 224.64 7.2 \nL 7.2 7.2 \nz\n\" style=\"fill:#ffffff;\"/>\n   </g>\n   <g clip-path=\"url(#p2e5c48b3c0)\">\n    <image height=\"218\" id=\"image305a594841\" transform=\"scale(1 -1)translate(0 -218)\" width=\"218\" x=\"7.2\" xlink:href=\"data:image/png;base64,\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\" y=\"-6.64\"/>\n   </g>\n   <g id=\"matplotlib.axis_1\">\n    <g id=\"xtick_1\">\n     <g id=\"line2d_1\"/>\n    </g>\n    <g id=\"xtick_2\">\n     <g id=\"line2d_2\"/>\n    </g>\n    <g id=\"xtick_3\">\n     <g id=\"line2d_3\"/>\n    </g>\n    <g id=\"xtick_4\">\n     <g id=\"line2d_4\"/>\n    </g>\n    <g id=\"xtick_5\">\n     <g id=\"line2d_5\"/>\n    </g>\n    <g id=\"xtick_6\">\n     <g id=\"line2d_6\"/>\n    </g>\n   </g>\n   <g id=\"matplotlib.axis_2\">\n    <g id=\"ytick_1\">\n     <g id=\"line2d_7\"/>\n    </g>\n    <g id=\"ytick_2\">\n     <g id=\"line2d_8\"/>\n    </g>\n    <g id=\"ytick_3\">\n     <g id=\"line2d_9\"/>\n    </g>\n    <g id=\"ytick_4\">\n     <g id=\"line2d_10\"/>\n    </g>\n    <g id=\"ytick_5\">\n     <g id=\"line2d_11\"/>\n    </g>\n    <g id=\"ytick_6\">\n     <g id=\"line2d_12\"/>\n    </g>\n   </g>\n  </g>\n </g>\n <defs>\n  <clipPath id=\"p2e5c48b3c0\">\n   <rect height=\"217.44\" width=\"217.44\" x=\"7.2\" y=\"7.2\"/>\n  </clipPath>\n </defs>\n</svg>\n",
      "image/png": "[encoded data removed]"
     },
     "metadata": {
      "needs_background": "light"
     }
    }
   ],
   "source": [
    "image, label = next(iter(trainloader))\n",
    "helper.imshow(image[0,:]);"
   ]
  },
  {
   "cell_type": "markdown",
   "metadata": {},
   "source": [
    "## Building the network\n",
    "\n",
    "Here you should define your network. As with MNIST, each image is 28x28 which is a total of 784 pixels, and there are 10 classes. You should include at least one hidden layer. We suggest you use ReLU activations for the layers and to return the logits or log-softmax from the forward pass. It's up to you how many layers you add and the size of those layers."
   ]
  },
  {
   "cell_type": "code",
   "execution_count": 3,
   "metadata": {},
   "outputs": [],
   "source": [
    "from torch import nn, optim\n",
    "import torch.nn.functional as F"
   ]
  },
  {
   "cell_type": "code",
   "execution_count": 4,
   "metadata": {},
   "outputs": [],
   "source": [
    "# TODO: Define your network architecture here\n",
    "class Classifier(nn.Module):\n",
    "    def __init__(self):\n",
    "        super().__init__()\n",
    "        self.fc1 = nn.Linear(784, 256)\n",
    "        self.fc2 = nn.Linear(256, 128)\n",
    "        self.fc3 = nn.Linear(128, 64)\n",
    "        self.fc4 = nn.Linear(64, 10)\n",
    "        \n",
    "    def forward(self, x):\n",
    "        # make sure input tensor is flattened\n",
    "        x = x.view(x.shape[0], -1)\n",
    "        \n",
    "        x = F.relu(self.fc1(x))\n",
    "        x = F.relu(self.fc2(x))\n",
    "        x = F.relu(self.fc3(x))\n",
    "        x = F.log_softmax(self.fc4(x), dim=1)\n",
    "        \n",
    "        return x"
   ]
  },
  {
   "cell_type": "markdown",
   "metadata": {},
   "source": [
    "# Train the network\n",
    "\n",
    "Now you should create your network and train it. First you'll want to define [the criterion](http://pytorch.org/docs/master/nn.html#loss-functions) (something like `nn.CrossEntropyLoss` or `nn.NLLLoss`) and [the optimizer](http://pytorch.org/docs/master/optim.html) (typically `optim.SGD` or `optim.Adam`).\n",
    "\n",
    "Then write the training code. Remember the training pass is a fairly straightforward process:\n",
    "\n",
    "* Make a forward pass through the network to get the logits \n",
    "* Use the logits to calculate the loss\n",
    "* Perform a backward pass through the network with `loss.backward()` to calculate the gradients\n",
    "* Take a step with the optimizer to update the weights\n",
    "\n",
    "By adjusting the hyperparameters (hidden units, learning rate, etc), you should be able to get the training loss below 0.4."
   ]
  },
  {
   "cell_type": "code",
   "execution_count": 5,
   "metadata": {},
   "outputs": [],
   "source": [
    "# TODO: Create the network, define the criterion and optimizer\n",
    "model = Classifier()\n",
    "criterion = nn.NLLLoss()\n",
    "optimizer = optim.Adam(model.parameters(), lr=0.003)"
   ]
  },
  {
   "cell_type": "code",
   "execution_count": 6,
   "metadata": {},
   "outputs": [
    {
     "output_type": "stream",
     "name": "stdout",
     "text": "Training loss: 0.5167268250765068\nTraining loss: 0.3893835243306307\nTraining loss: 0.36067841896243186\nTraining loss: 0.33235049107944026\nTraining loss: 0.31842698053574003\n"
    }
   ],
   "source": [
    "# TODO: Train the network here\n",
    "epochs = 5\n",
    "\n",
    "for e in range(epochs):\n",
    "    running_loss = 0\n",
    "    for images, labels in trainloader:\n",
    "        log_ps = model(images)\n",
    "        loss = criterion(log_ps, labels)\n",
    "        \n",
    "        optimizer.zero_grad()\n",
    "        loss.backward()\n",
    "        optimizer.step()\n",
    "        \n",
    "        running_loss += loss.item()\n",
    "    else:\n",
    "        print(f\"Training loss: {running_loss/len(trainloader)}\")"
   ]
  },
  {
   "cell_type": "code",
   "execution_count": 8,
   "metadata": {},
   "outputs": [
    {
     "output_type": "display_data",
     "data": {
      "text/plain": "<Figure size 432x648 with 2 Axes>",
      "image/png": "[encoded data removed]"
     },
     "metadata": {
      "image/png": {
       "width": 424,
       "height": 216
      },
      "needs_background": "light"
     }
    }
   ],
   "source": [
    "%matplotlib inline\n",
    "%config InlineBackend.figure_format = 'retina'\n",
    "\n",
    "import helper\n",
    "\n",
    "# Test out your network!\n",
    "\n",
    "dataiter = iter(testloader)\n",
    "images, labels = dataiter.next()\n",
    "img = images[1]\n",
    "\n",
    "# TODO: Calculate the class probabilities (softmax) for img\n",
    "ps = torch.exp(model(img))\n",
    "\n",
    "# Plot the image and probabilities\n",
    "helper.view_classify(img, ps, version='Fashion')"
   ]
  },
  {
   "cell_type": "code",
   "execution_count": null,
   "metadata": {},
   "outputs": [],
   "source": []
  }
 ],
 "metadata": {
  "kernelspec": {
   "display_name": "Python 3",
   "language": "python",
   "name": "python3"
  },
  "language_info": {
   "codemirror_mode": {
    "name": "ipython",
    "version": 3
   },
   "file_extension": ".py",
   "mimetype": "text/x-python",
   "name": "python",
   "nbconvert_exporter": "python",
   "pygments_lexer": "ipython3",
   "version": "3.6.8-final"
  }
 },
 "nbformat": 4,
 "nbformat_minor": 2
}